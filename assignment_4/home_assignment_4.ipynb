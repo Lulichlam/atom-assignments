{
  "nbformat": 4,
  "nbformat_minor": 0,
  "metadata": {
    "colab": {
      "name": "home_assignment_4.ipynb",
      "provenance": [],
      "collapsed_sections": []
    },
    "kernelspec": {
      "name": "python373jvsc74a57bd07945e9a82d7512fbf96246d9bbc29cd2f106c1a4a9cf54c9563dadf10f2237d4",
      "display_name": "Python 3.7.3 64-bit"
    },
    "language_info": {
      "name": "python",
      "version": "3.7.3"
    },
    "metadata": {
      "interpreter": {
        "hash": "7945e9a82d7512fbf96246d9bbc29cd2f106c1a4a9cf54c9563dadf10f2237d4"
      }
    }
  },
  "cells": [
    {
      "cell_type": "markdown",
      "metadata": {
        "id": "fdUtuCDzV97E"
      },
      "source": [
        "# HOME ASSIGNMENT #4: DATABASE DESIGN & SQL\n",
        "\n",
        "**Mục đích của bài Assignment**\n",
        "> *   Hiểu các bước design Database cho Case study cụ thể: DataCracy\n",
        "*   Bài tập SQL (Dựa trên Cheatsheet)\n",
        "*   `[Optional]` Bài tập Python Pandas (Dựa trên Cheatsheet)\n",
        "\n",
        "**Các kiến thức áp dụng**\n",
        "* Slack API, JSON to DataFrame\n",
        "* Phân tích Data (Assignment#1, Lab#1)\n",
        "* Database (DB) Design\n",
        "* SQL\n",
        "* Python Pandas\n",
        "\n",
        "**Lời Khuyên**\n",
        "* Đây là bài tập dài, nhưng thiên về hiểu case studies và thiết kế => Nên bạn **hãy bắt đầu sớm**\n",
        "* **Chắc chắn là bạn đọc thực kỹ các bước hướng dẫn và tài liệu, tận dụng Slack để trao đổi**\n",
        "* **Đừng sa đà vào Code của STEP 0** (bước này tương tự Assignmetn 3 về Slack API, nhưng biến đổi thêm cho phù hợp)\n",
        "* **Đừng sa đà vào các tiểu tiết** => Rất quan trọng là bạn cố gắng đi đến hết `TODO#6` để hiểu bức tranh toàn cảnh và kết nối được kiến thức. Sau khi đi hết qua, các bạn có thể trở lại và nhìn cận vào các tiểu tiết\n",
        "* Làm nhiều nhất có thể (Đừng quá lo lắng nếu bạn không thể hoàn thành hết)"
      ]
    },
    {
      "cell_type": "code",
      "metadata": {
        "id": "pJEWhrq2WCfM"
      },
      "source": [
        "import requests # -> Để call API\n",
        "import json # -> Xử lý file JSON\n",
        "import pandas as pd # -> Thư viện xử lý dữ liệu dạng bảng\n",
        "import numpy as np\n",
        "import re # -> Thư viện xử lý text: regular expressions\n",
        "from datetime import datetime as dt # -> Thư viện xử lý dữ liệu thời gian\n",
        "import duckdb # -> Thư viện \"giả lập\" xử lý dữ liệu bằng SQL "
      ],
      "execution_count": 4,
      "outputs": []
    },
    {
      "cell_type": "markdown",
      "metadata": {
        "id": "z1Fhae8rYr88"
      },
      "source": [
        "## STEP 0: XEM LẠI DATA ĐÃ CÓ (SLACK API)\n",
        "\n",
        "Ở bước đầu tiên, ta xem lại tất cả các data của DATACracy Atom mà ra đã biết: \n",
        "* **Data từ Slack API**:\n",
        "  * Danh sách thành viên\n",
        "  * Danh sách các channels\n",
        "  * Lịch sử tin nhắn trên các channels\n",
        "* **Data do dự án tự collect - File CSV (trích xuất từ Google Spreadsheet)**:\n",
        "  * Danh sách thành viên được phân theo vị trí (mentors, learners, BTC)\n",
        "\n",
        "\n",
        "===> Các dữ liệu này lần lượt được lấy bằng code bên dưới.\n"
      ]
    },
    {
      "cell_type": "code",
      "metadata": {
        "id": "uilVg72vXk8Q"
      },
      "source": [
        "## Load Token file \n",
        "## WARNING!! --- Put it in gitignore and DO NOT print out to notebook\n",
        "with open('env_variable.json', 'r') as j:\n",
        "    json_data = json.load(j)"
      ],
      "execution_count": 5,
      "outputs": []
    },
    {
      "cell_type": "markdown",
      "metadata": {
        "id": "n4g5AeQtYnLf"
      },
      "source": [
        "### 0.1. Pull List of Members"
      ]
    },
    {
      "cell_type": "code",
      "metadata": {
        "colab": {
          "base_uri": "https://localhost:8080/",
          "height": 194
        },
        "id": "yr8L3FMKX7XZ",
        "outputId": "41b575d4-2882-4f24-ac96-8ce762029a9b"
      },
      "source": [
        "# 1. LIST OF SLACK MEMBERS \n",
        "\n",
        "## Pull list of member as JSON\n",
        "## Gọi API từ Endpoints (Input - Token được đưa vào Headers)\n",
        "## Challenge: Thử gọi API này bằng Postman\n",
        "endpoint = \"https://slack.com/api/users.list\"\n",
        "headers = {\"Authorization\": \"Bearer {}\".format(json_data['SLACK_BEARER_TOKEN'])}\n",
        "response_json = requests.post(endpoint, headers=headers).json() \n",
        "user_dat = response_json['members']\n",
        "\n",
        "## Convert to CSV\n",
        "user_dict = {'user_id':[],'name':[],'display_name':[],'real_name':[],'title':[],'is_bot':[]}\n",
        "for i in range(len(user_dat)):\n",
        "  user_dict['user_id'].append(user_dat[i]['id'])\n",
        "  user_dict['name'].append(user_dat[i]['name'])\n",
        "  user_dict['display_name'].append(user_dat[i]['profile']['display_name'])\n",
        "  user_dict['real_name'].append(user_dat[i]['profile']['real_name_normalized'])\n",
        "  user_dict['title'].append(user_dat[i]['profile']['title'])\n",
        "  user_dict['is_bot'].append(user_dat[i]['is_bot'])\n",
        "\n",
        "user_df = pd.DataFrame(user_dict) \n",
        "user_df = user_df.replace('', np.nan) # -> replace khoảng trắng bằng giá trị NULL (nan)\n",
        "user_df.head()"
      ],
      "execution_count": 7,
      "outputs": [
        {
          "output_type": "execute_result",
          "data": {
            "text/plain": [
              "       user_id               name       display_name           real_name  \\\n",
              "0    USLACKBOT           slackbot           Slackbot            Slackbot   \n",
              "1  U01AT4T75JB     loclexuan26392        Loc Le Xuan         Loc Le Xuan   \n",
              "2  U01AVDY7JET           locle.ds        Loc Le Xuan         Loc Le Xuan   \n",
              "3  U01BE2PR6LU     maianhdang.ftu                MAD  Dặng Huỳnh Mai Anh   \n",
              "4  U01C48T7S1J  huyenhoang.design  Thanh Huyen Hoang   Thanh Huyen Hoang   \n",
              "\n",
              "                title  is_bot  \n",
              "0                 NaN   False  \n",
              "1                 NaN   False  \n",
              "2                 NaN   False  \n",
              "3  Technical Contents   False  \n",
              "4                 NaN   False  "
            ],
            "text/html": "<div>\n<style scoped>\n    .dataframe tbody tr th:only-of-type {\n        vertical-align: middle;\n    }\n\n    .dataframe tbody tr th {\n        vertical-align: top;\n    }\n\n    .dataframe thead th {\n        text-align: right;\n    }\n</style>\n<table border=\"1\" class=\"dataframe\">\n  <thead>\n    <tr style=\"text-align: right;\">\n      <th></th>\n      <th>user_id</th>\n      <th>name</th>\n      <th>display_name</th>\n      <th>real_name</th>\n      <th>title</th>\n      <th>is_bot</th>\n    </tr>\n  </thead>\n  <tbody>\n    <tr>\n      <td>0</td>\n      <td>USLACKBOT</td>\n      <td>slackbot</td>\n      <td>Slackbot</td>\n      <td>Slackbot</td>\n      <td>NaN</td>\n      <td>False</td>\n    </tr>\n    <tr>\n      <td>1</td>\n      <td>U01AT4T75JB</td>\n      <td>loclexuan26392</td>\n      <td>Loc Le Xuan</td>\n      <td>Loc Le Xuan</td>\n      <td>NaN</td>\n      <td>False</td>\n    </tr>\n    <tr>\n      <td>2</td>\n      <td>U01AVDY7JET</td>\n      <td>locle.ds</td>\n      <td>Loc Le Xuan</td>\n      <td>Loc Le Xuan</td>\n      <td>NaN</td>\n      <td>False</td>\n    </tr>\n    <tr>\n      <td>3</td>\n      <td>U01BE2PR6LU</td>\n      <td>maianhdang.ftu</td>\n      <td>MAD</td>\n      <td>Dặng Huỳnh Mai Anh</td>\n      <td>Technical Contents</td>\n      <td>False</td>\n    </tr>\n    <tr>\n      <td>4</td>\n      <td>U01C48T7S1J</td>\n      <td>huyenhoang.design</td>\n      <td>Thanh Huyen Hoang</td>\n      <td>Thanh Huyen Hoang</td>\n      <td>NaN</td>\n      <td>False</td>\n    </tr>\n  </tbody>\n</table>\n</div>"
          },
          "metadata": {},
          "execution_count": 7
        }
      ]
    },
    {
      "cell_type": "markdown",
      "metadata": {
        "id": "r7hhD2nXYvwk"
      },
      "source": [
        "### 0.2. List of Channels"
      ]
    },
    {
      "cell_type": "code",
      "metadata": {
        "colab": {
          "base_uri": "https://localhost:8080/",
          "height": 274
        },
        "id": "SIAi3VPeYYkK",
        "outputId": "a7ed09c6-8ba0-461f-d0fa-7a910f65de99"
      },
      "source": [
        "# 2. LIST OF SLACK CHANNELS\n",
        "\n",
        "endpoint2 = \"https://slack.com/api/conversations.list\"\n",
        "data = {'types': 'public_channel,private_channel'} # -> CHECK: API Docs https://api.slack.com/methods/conversations.list/test\n",
        "response_json = requests.post(endpoint2, headers=headers, data=data).json() \n",
        "channel_dat = response_json['channels']\n",
        "\n",
        "channel_dict = {'channel_id':[], 'channel_name':[], 'is_channel':[],'creator':[],'created_at':[],'topics':[],'purpose':[],'num_members':[]}\n",
        "for i in range(len(channel_dat)):\n",
        "  channel_dict['channel_id'].append(channel_dat[i]['id'])\n",
        "  channel_dict['channel_name'].append(channel_dat[i]['name'])\n",
        "  channel_dict['is_channel'].append(channel_dat[i]['is_channel'])\n",
        "  channel_dict['creator'].append(channel_dat[i]['creator'])\n",
        "  channel_dict['created_at'].append(dt.fromtimestamp(float(channel_dat[i]['created'])))\n",
        "  channel_dict['topics'].append(channel_dat[i]['topic']['value'])\n",
        "  channel_dict['purpose'].append(channel_dat[i]['purpose']['value'])\n",
        "  channel_dict['num_members'].append(channel_dat[i]['num_members'])\n",
        "\n",
        "channel_df = pd.DataFrame(channel_dict) \n",
        "channel_df = channel_df.replace('', np.nan) # -> replace khoảng trắng bằng giá trị NULL (nan)\n",
        "channel_df.head()"
      ],
      "execution_count": 8,
      "outputs": [
        {
          "output_type": "execute_result",
          "data": {
            "text/plain": [
              "    channel_id      channel_name  is_channel      creator          created_at  \\\n",
              "0  C01B4PVGLVB           general        True  U01BE2PR6LU 2020-09-23 17:25:03   \n",
              "1  C01BYH7JHB5          contents        True  U01BE2PR6LU 2020-10-05 14:28:09   \n",
              "2  C01CAMNCJJV   branding-design        True  U01AVDY7JET 2020-10-05 10:16:30   \n",
              "3  C01U6P7LZ8F  atom-assignment1        True  U01BE2PR6LU 2021-04-17 14:00:04   \n",
              "4  C01UL6K1C7L        atom-week1        True  U01BE2PR6LU 2021-04-17 00:44:32   \n",
              "\n",
              "                                              topics  \\\n",
              "0                                                NaN   \n",
              "1                                                NaN   \n",
              "2                                                NaN   \n",
              "3  Assigment#1 - Python Basics &amp; Spreadsheet ...   \n",
              "4  TOPIC: Data Strategy. Metrics Design. Spreadsh...   \n",
              "\n",
              "                                             purpose  num_members  \n",
              "0  This is the one channel that will always inclu...           65  \n",
              "1                                                NaN           12  \n",
              "2                                                NaN            9  \n",
              "3  Where learners submit assignments and give rev...           44  \n",
              "4  TOPIC: Data Strategy. Metrics Design. Spreadsh...           43  "
            ],
            "text/html": "<div>\n<style scoped>\n    .dataframe tbody tr th:only-of-type {\n        vertical-align: middle;\n    }\n\n    .dataframe tbody tr th {\n        vertical-align: top;\n    }\n\n    .dataframe thead th {\n        text-align: right;\n    }\n</style>\n<table border=\"1\" class=\"dataframe\">\n  <thead>\n    <tr style=\"text-align: right;\">\n      <th></th>\n      <th>channel_id</th>\n      <th>channel_name</th>\n      <th>is_channel</th>\n      <th>creator</th>\n      <th>created_at</th>\n      <th>topics</th>\n      <th>purpose</th>\n      <th>num_members</th>\n    </tr>\n  </thead>\n  <tbody>\n    <tr>\n      <td>0</td>\n      <td>C01B4PVGLVB</td>\n      <td>general</td>\n      <td>True</td>\n      <td>U01BE2PR6LU</td>\n      <td>2020-09-23 17:25:03</td>\n      <td>NaN</td>\n      <td>This is the one channel that will always inclu...</td>\n      <td>65</td>\n    </tr>\n    <tr>\n      <td>1</td>\n      <td>C01BYH7JHB5</td>\n      <td>contents</td>\n      <td>True</td>\n      <td>U01BE2PR6LU</td>\n      <td>2020-10-05 14:28:09</td>\n      <td>NaN</td>\n      <td>NaN</td>\n      <td>12</td>\n    </tr>\n    <tr>\n      <td>2</td>\n      <td>C01CAMNCJJV</td>\n      <td>branding-design</td>\n      <td>True</td>\n      <td>U01AVDY7JET</td>\n      <td>2020-10-05 10:16:30</td>\n      <td>NaN</td>\n      <td>NaN</td>\n      <td>9</td>\n    </tr>\n    <tr>\n      <td>3</td>\n      <td>C01U6P7LZ8F</td>\n      <td>atom-assignment1</td>\n      <td>True</td>\n      <td>U01BE2PR6LU</td>\n      <td>2021-04-17 14:00:04</td>\n      <td>Assigment#1 - Python Basics &amp;amp; Spreadsheet ...</td>\n      <td>Where learners submit assignments and give rev...</td>\n      <td>44</td>\n    </tr>\n    <tr>\n      <td>4</td>\n      <td>C01UL6K1C7L</td>\n      <td>atom-week1</td>\n      <td>True</td>\n      <td>U01BE2PR6LU</td>\n      <td>2021-04-17 00:44:32</td>\n      <td>TOPIC: Data Strategy. Metrics Design. Spreadsh...</td>\n      <td>TOPIC: Data Strategy. Metrics Design. Spreadsh...</td>\n      <td>43</td>\n    </tr>\n  </tbody>\n</table>\n</div>"
          },
          "metadata": {},
          "execution_count": 8
        }
      ]
    },
    {
      "cell_type": "markdown",
      "metadata": {
        "id": "XrqoEPJTY0NP"
      },
      "source": [
        "### 0.3. Message Data"
      ]
    },
    {
      "cell_type": "code",
      "metadata": {
        "id": "1Fjs0bNNY3rh"
      },
      "source": [
        "endpoint3 = \"https://slack.com/api/conversations.history\""
      ],
      "execution_count": 9,
      "outputs": []
    },
    {
      "cell_type": "code",
      "metadata": {
        "colab": {
          "base_uri": "https://localhost:8080/"
        },
        "id": "mZYMQUavbKkp",
        "outputId": "5f9e3f9b-08bf-4a1c-db53-2782b20875f7"
      },
      "source": [
        "msg_dict = {'channel_id':[],'msg_id':[], 'msg_ts':[], 'user_id':[], 'latest_reply':[],'reply_user_count':[],'reply_users':[],'github_link':[]}\n",
        "for channel_id, channel_name in zip(channel_df['channel_id'], channel_df['channel_name']):\n",
        "  print('Channel ID: {} - Channel Name: {}'.format(channel_id, channel_name))\n",
        "  try:\n",
        "    data = {\"channel\": channel_id} \n",
        "    response_json = requests.post(endpoint3, data=data, headers=headers).json()\n",
        "    msg_ls = response_json['messages']\n",
        "    for i in range(len(msg_ls)):\n",
        "      if 'client_msg_id' in msg_ls[i].keys():\n",
        "        msg_dict['channel_id'].append(channel_id)\n",
        "        msg_dict['msg_id'].append(msg_ls[i]['client_msg_id'])\n",
        "        msg_dict['msg_ts'].append(dt.fromtimestamp(float(msg_ls[i]['ts'])))\n",
        "        msg_dict['latest_reply'].append(dt.fromtimestamp(float(msg_ls[i]['latest_reply'] if 'latest_reply' in msg_ls[i].keys() else 0))) ## -> No reply: 1970-01-01\n",
        "        msg_dict['user_id'].append(msg_ls[i]['user'])\n",
        "        msg_dict['reply_user_count'].append(msg_ls[i]['reply_users_count'] if 'reply_users_count' in msg_ls[i].keys() else 0)\n",
        "        msg_dict['reply_users'].append(msg_ls[i]['reply_users'] if 'reply_users' in msg_ls[i].keys() else 0) \n",
        "        ## -> Censor message contains tokens\n",
        "        text = msg_ls[i]['text']\n",
        "        github_link = re.findall('(?:https?://)?(?:www[.])?github[.]com/[\\w-]+/?', text)\n",
        "        msg_dict['github_link'].append(github_link[0] if len(github_link) > 0 else np.nan)\n",
        "  except:\n",
        "    print('====> '+ str(response_json))"
      ],
      "execution_count": 10,
      "outputs": [
        {
          "output_type": "stream",
          "name": "stdout",
          "text": [
            "Channel ID: C01B4PVGLVB - Channel Name: general\n",
            "Channel ID: C01BYH7JHB5 - Channel Name: contents\n",
            "====> {'ok': False, 'error': 'not_in_channel'}\n",
            "Channel ID: C01CAMNCJJV - Channel Name: branding-design\n",
            "====> {'ok': False, 'error': 'not_in_channel'}\n",
            "Channel ID: C01U6P7LZ8F - Channel Name: atom-assignment1\n",
            "Channel ID: C01UL6K1C7L - Channel Name: atom-week1\n",
            "Channel ID: C01ULCHGN75 - Channel Name: atom-general\n",
            "====> {'ok': False, 'error': 'not_in_channel'}\n",
            "Channel ID: C020VMT58JK - Channel Name: topics-data-analytics\n",
            "Channel ID: C0213MNH9L6 - Channel Name: topics-python\n",
            "Channel ID: C0213N56M2A - Channel Name: topics-materials\n",
            "Channel ID: C021FSDN7LJ - Channel Name: atom-assignment2\n",
            "Channel ID: C021KLB0DSB - Channel Name: discuss-group3\n",
            "Channel ID: C021KLB90GP - Channel Name: discuss-group4\n",
            "Channel ID: C02204B2CD6 - Channel Name: atom-week2\n",
            "Channel ID: C0220KU9399 - Channel Name: discuss-group1\n",
            "Channel ID: C0226D3LEQ4 - Channel Name: atom-week3\n",
            "Channel ID: C0227A51SAY - Channel Name: atom-assignment3\n",
            "Channel ID: C022Q7TGRLG - Channel Name: discuss-group2\n",
            "Channel ID: C022RRWQ6US - Channel Name: atom-assignment4\n",
            "Channel ID: C022Y1FUETE - Channel Name: atom-week4\n"
          ]
        }
      ]
    },
    {
      "cell_type": "code",
      "metadata": {
        "colab": {
          "base_uri": "https://localhost:8080/",
          "height": 194
        },
        "id": "Mxix0Aj_-Ulp",
        "outputId": "78daf64b-1236-4116-ed30-2f011922916a"
      },
      "source": [
        "msg_df = pd.DataFrame(msg_dict)\n",
        "msg_df = msg_df.replace('', np.nan) # -> replace khoảng trắng bằng giá trị NULL (nan)\n",
        "msg_df.tail()"
      ],
      "execution_count": 11,
      "outputs": [
        {
          "output_type": "execute_result",
          "data": {
            "text/plain": [
              "      channel_id                                msg_id  \\\n",
              "261  C022RRWQ6US  3db33d2a-5666-44cf-95e0-dd33aee4e63c   \n",
              "262  C022RRWQ6US  8b4a2ebb-7882-402b-8339-a0b067ce5165   \n",
              "263  C022RRWQ6US  231fad01-7083-4cd0-b6b6-e97bf54779e2   \n",
              "264  C022Y1FUETE  ee582f3d-c339-4d06-a263-b71c6470e647   \n",
              "265  C022Y1FUETE  38adf48f-21cc-437c-9ad3-31cd002bc4f8   \n",
              "\n",
              "                        msg_ts      user_id               latest_reply  \\\n",
              "261 2021-05-24 18:49:29.003700  U01BE2PR6LU 1970-01-01 07:00:00.000000   \n",
              "262 2021-05-23 14:58:23.003000  U01BE2PR6LU 1970-01-01 07:00:00.000000   \n",
              "263 2021-05-23 06:23:13.001400  U01BE2PR6LU 1970-01-01 07:00:00.000000   \n",
              "264 2021-05-24 18:49:57.001000  U01BE2PR6LU 1970-01-01 07:00:00.000000   \n",
              "265 2021-05-23 14:58:05.001500  U01BE2PR6LU 2021-05-23 23:15:45.002200   \n",
              "\n",
              "     reply_user_count    reply_users                     github_link  \n",
              "261                 0              0                             NaN  \n",
              "262                 0              0                             NaN  \n",
              "263                 0              0  https://github.com/anhdanggit/  \n",
              "264                 0              0                             NaN  \n",
              "265                 1  [U01VB632FPS]                             NaN  "
            ],
            "text/html": "<div>\n<style scoped>\n    .dataframe tbody tr th:only-of-type {\n        vertical-align: middle;\n    }\n\n    .dataframe tbody tr th {\n        vertical-align: top;\n    }\n\n    .dataframe thead th {\n        text-align: right;\n    }\n</style>\n<table border=\"1\" class=\"dataframe\">\n  <thead>\n    <tr style=\"text-align: right;\">\n      <th></th>\n      <th>channel_id</th>\n      <th>msg_id</th>\n      <th>msg_ts</th>\n      <th>user_id</th>\n      <th>latest_reply</th>\n      <th>reply_user_count</th>\n      <th>reply_users</th>\n      <th>github_link</th>\n    </tr>\n  </thead>\n  <tbody>\n    <tr>\n      <td>261</td>\n      <td>C022RRWQ6US</td>\n      <td>3db33d2a-5666-44cf-95e0-dd33aee4e63c</td>\n      <td>2021-05-24 18:49:29.003700</td>\n      <td>U01BE2PR6LU</td>\n      <td>1970-01-01 07:00:00.000000</td>\n      <td>0</td>\n      <td>0</td>\n      <td>NaN</td>\n    </tr>\n    <tr>\n      <td>262</td>\n      <td>C022RRWQ6US</td>\n      <td>8b4a2ebb-7882-402b-8339-a0b067ce5165</td>\n      <td>2021-05-23 14:58:23.003000</td>\n      <td>U01BE2PR6LU</td>\n      <td>1970-01-01 07:00:00.000000</td>\n      <td>0</td>\n      <td>0</td>\n      <td>NaN</td>\n    </tr>\n    <tr>\n      <td>263</td>\n      <td>C022RRWQ6US</td>\n      <td>231fad01-7083-4cd0-b6b6-e97bf54779e2</td>\n      <td>2021-05-23 06:23:13.001400</td>\n      <td>U01BE2PR6LU</td>\n      <td>1970-01-01 07:00:00.000000</td>\n      <td>0</td>\n      <td>0</td>\n      <td>https://github.com/anhdanggit/</td>\n    </tr>\n    <tr>\n      <td>264</td>\n      <td>C022Y1FUETE</td>\n      <td>ee582f3d-c339-4d06-a263-b71c6470e647</td>\n      <td>2021-05-24 18:49:57.001000</td>\n      <td>U01BE2PR6LU</td>\n      <td>1970-01-01 07:00:00.000000</td>\n      <td>0</td>\n      <td>0</td>\n      <td>NaN</td>\n    </tr>\n    <tr>\n      <td>265</td>\n      <td>C022Y1FUETE</td>\n      <td>38adf48f-21cc-437c-9ad3-31cd002bc4f8</td>\n      <td>2021-05-23 14:58:05.001500</td>\n      <td>U01BE2PR6LU</td>\n      <td>2021-05-23 23:15:45.002200</td>\n      <td>1</td>\n      <td>[U01VB632FPS]</td>\n      <td>NaN</td>\n    </tr>\n  </tbody>\n</table>\n</div>"
          },
          "metadata": {},
          "execution_count": 11
        }
      ]
    },
    {
      "cell_type": "markdown",
      "metadata": {
        "id": "nanD3zm8WkHb"
      },
      "source": [
        "### 0.4. DataCracy Info\n",
        "* **Data do dự án tự collect - File CSV (trích xuất từ Google Spreadsheet)**: Danh sách thành viên được phân theo vị trí (mentors, learners, BTC)\n",
        "* Trong cùng folder Github `assignment_4`"
      ]
    },
    {
      "cell_type": "code",
      "metadata": {
        "colab": {
          "base_uri": "https://localhost:8080/",
          "height": 194
        },
        "id": "5Ix71ju8LyUq",
        "outputId": "a2bd37fa-ea9c-484b-d227-7ceff3c305ec"
      },
      "source": [
        "dtc_groups = pd.read_csv('datacracy_groups.csv')\n",
        "dtc_groups.head()"
      ],
      "execution_count": 12,
      "outputs": [
        {
          "output_type": "execute_result",
          "data": {
            "text/plain": [
              "                name DataCracy_role\n",
              "0           slackbot            BTC\n",
              "1     loclexuan26392            BTC\n",
              "2           locle.ds            BTC\n",
              "3     maianhdang.ftu            BTC\n",
              "4  huyenhoang.design            BTC"
            ],
            "text/html": "<div>\n<style scoped>\n    .dataframe tbody tr th:only-of-type {\n        vertical-align: middle;\n    }\n\n    .dataframe tbody tr th {\n        vertical-align: top;\n    }\n\n    .dataframe thead th {\n        text-align: right;\n    }\n</style>\n<table border=\"1\" class=\"dataframe\">\n  <thead>\n    <tr style=\"text-align: right;\">\n      <th></th>\n      <th>name</th>\n      <th>DataCracy_role</th>\n    </tr>\n  </thead>\n  <tbody>\n    <tr>\n      <td>0</td>\n      <td>slackbot</td>\n      <td>BTC</td>\n    </tr>\n    <tr>\n      <td>1</td>\n      <td>loclexuan26392</td>\n      <td>BTC</td>\n    </tr>\n    <tr>\n      <td>2</td>\n      <td>locle.ds</td>\n      <td>BTC</td>\n    </tr>\n    <tr>\n      <td>3</td>\n      <td>maianhdang.ftu</td>\n      <td>BTC</td>\n    </tr>\n    <tr>\n      <td>4</td>\n      <td>huyenhoang.design</td>\n      <td>BTC</td>\n    </tr>\n  </tbody>\n</table>\n</div>"
          },
          "metadata": {},
          "execution_count": 12
        }
      ]
    },
    {
      "cell_type": "markdown",
      "metadata": {
        "id": "9YaCb3Y7yMkH"
      },
      "source": [
        "### TODO#1: Requirements\n",
        "Tự trả lời các câu hỏi sau, từ góc nhìn của bạn (đặt mình vào vị trí bạn là co-founder của dự án DataCracy): \n",
        "1. Mục đích của lớp học Atom là gì?\n",
        "2. BTC sẽ quan tâm đến những chủ đề/quy trình gì để đạt được Mục Đích trong (1)?\n",
        "3. Làm sao để đo lường các điểm trong (2)? => Metrics?\n",
        "4. Dựa vào các data đã có như liệt kê trong `STEP 0`:\n",
        "  * Chỉ dùng những data sẵn có, ta có thể đo lường và thiết kế những metrics nào bạn đã liệt kê trong (3)?\n",
        "  * Tham khảo Slack API và hình dung về các thông tin DataCracy có khả năng thu thập, bạn sẽ đề xuất DataCracy thu thập thêm những thông tin gì?\n"
      ]
    },
    {
      "cell_type": "code",
      "metadata": {
        "id": "B67K2qZ-CCit"
      },
      "source": [
        "## Điền vào bên dưới câu trả lời của bạn\n",
        "''' \n",
        "REQUIREMENTS\n",
        "---\n",
        "1. Mục đích lớp học: rèn luyện cách tự học, giới thiệu sơ lược các công cụ phân tích và tư duy về dữ liệu\n",
        "2. Mức độ hoàn thành bài tập, khả năng hoàn thành một dự án được giao\n",
        "3. Số lượng nộp bài tập, thời gian làm bài tập, chất lượng bài hoàn thành, tự đánh giá mức độ nâng cao kiến thức/kĩ năng qua từng bài học + giai đoạn\n",
        "4. Các chỉ tiêu có thể đo lường:\n",
        "- tỉ lệ nộp bài: nộp đúng hạn + nộp đủ\n",
        "thực hiện khảo sát (pool hoặc ks khác) thêm sau mỗi buổi học/assignment về:\n",
        "- khảo sát thời gian hoàn thành ở mỗi bài tập\n",
        "- đánh giá độ khó\n",
        "- đánh giá độ hứng thú\n",
        "- điểm bạn học được qua bài tập là gì?\n",
        "- điểm mà bạn còn thấy khó khăn và cần hỗ trợ thêm?\n",
        "'''"
      ],
      "execution_count": null,
      "outputs": []
    },
    {
      "cell_type": "markdown",
      "metadata": {
        "id": "bByIfF-6XkcT"
      },
      "source": [
        "## STEP 2: TỔ CHỨC THÔNG TIN\n",
        "> Thu thập và hệ thống lại các thông tin"
      ]
    },
    {
      "cell_type": "code",
      "metadata": {
        "colab": {
          "base_uri": "https://localhost:8080/"
        },
        "id": "gTfIG4L6DOHS",
        "outputId": "81de88c5-d63c-4400-f0d3-667638a66a8d"
      },
      "source": [
        "## Hints: info() để check các thông tin (Column), số dòng (Count), và Data Type của mỗi cột\n",
        "user_df.info()"
      ],
      "execution_count": 318,
      "outputs": [
        {
          "output_type": "stream",
          "text": [
            "<class 'pandas.core.frame.DataFrame'>\n",
            "RangeIndex: 74 entries, 0 to 73\n",
            "Data columns (total 6 columns):\n",
            " #   Column        Non-Null Count  Dtype \n",
            "---  ------        --------------  ----- \n",
            " 0   user_id       74 non-null     object\n",
            " 1   name          74 non-null     object\n",
            " 2   display_name  49 non-null     object\n",
            " 3   real_name     74 non-null     object\n",
            " 4   title         5 non-null      object\n",
            " 5   is_bot        74 non-null     bool  \n",
            "dtypes: bool(1), object(5)\n",
            "memory usage: 3.1+ KB\n"
          ],
          "name": "stdout"
        }
      ]
    },
    {
      "cell_type": "code",
      "execution_count": 15,
      "metadata": {},
      "outputs": [
        {
          "output_type": "stream",
          "name": "stdout",
          "text": [
            "<class 'pandas.core.frame.DataFrame'>\nRangeIndex: 19 entries, 0 to 18\nData columns (total 8 columns):\nchannel_id      19 non-null object\nchannel_name    19 non-null object\nis_channel      19 non-null bool\ncreator         19 non-null object\ncreated_at      19 non-null datetime64[ns]\ntopics          6 non-null object\npurpose         13 non-null object\nnum_members     19 non-null int64\ndtypes: bool(1), datetime64[ns](1), int64(1), object(5)\nmemory usage: 1.2+ KB\n"
          ]
        }
      ],
      "source": [
        "channel_df.info()"
      ]
    },
    {
      "cell_type": "code",
      "execution_count": 18,
      "metadata": {},
      "outputs": [
        {
          "output_type": "stream",
          "name": "stdout",
          "text": [
            "<class 'pandas.core.frame.DataFrame'>\nRangeIndex: 251 entries, 0 to 250\nData columns (total 8 columns):\nchannel_id          251 non-null object\nmsg_id              251 non-null object\nmsg_ts              251 non-null datetime64[ns]\nuser_id             251 non-null object\nlatest_reply        251 non-null datetime64[ns]\nreply_user_count    251 non-null int64\nreply_users         251 non-null object\ngithub_link         93 non-null object\ndtypes: datetime64[ns](2), int64(1), object(5)\nmemory usage: 15.8+ KB\n"
          ]
        }
      ],
      "source": [
        "msg_df.info()"
      ]
    },
    {
      "cell_type": "markdown",
      "metadata": {
        "id": "UyWDtBXWXpV4"
      },
      "source": [
        "## STEP 3: NGUYÊN TẮC CẦN ÁP DỤNG"
      ]
    },
    {
      "cell_type": "code",
      "metadata": {
        "id": "sNo9ZTOGMa-M"
      },
      "source": [
        "## Điền vào bên dưới câu trả lời của bạn\n",
        "''' \n",
        "RULES\n",
        "---\n",
        "1. Điền tên đầy đủ vào real name và vị trí (learner/mentor) vào title của Slack\n",
        "2. Chỉ up link assignment vào đúng channel submit\n",
        "3. #submit vào cuối bài submit\n",
        "4. #review vào cuối bài review\n",
        "5. Đảm bảo khi để link check lại xem có click vào được hay không\n",
        "'''"
      ],
      "execution_count": null,
      "outputs": []
    },
    {
      "cell_type": "code",
      "metadata": {
        "id": "Ig8nskC2V6k7"
      },
      "source": [
        "## Điền vào bên dưới câu trả lời của bạn\n",
        "''' \n",
        "LOGICS\n",
        "---\n",
        "1. Nên lọc user the trường ID sẽ đảm bảo unique value\n",
        "2. Ngày lastest reply nếu = 1970 thì thay bằng NULL\n",
        "3. \n",
        "4. \n",
        "'''"
      ],
      "execution_count": null,
      "outputs": []
    },
    {
      "cell_type": "code",
      "metadata": {
        "id": "xc2ZXy-GQD2T"
      },
      "source": [
        "## TODO2,3,4,5\n",
        "## Đặt FK bên cạnh col bạn chọn làm FK\n",
        "## Và thể hiện mối quan hệ bằng: id >- bảng_gốc.id (FK là PK trong bảng gốc)\n",
        "''' \n",
        "# Dtype obj: object -> string, bool, int, float\n",
        "# NULL - Nếu có null count < số entries\n",
        "\n",
        "# Ví dụ  bảng user_df \n",
        "user_df\n",
        "-\n",
        "user_id string PK\n",
        "name string\n",
        "display_name NULL string\n",
        "real_name string\n",
        "title NULL string\n",
        "is_bot bool\n",
        "\n",
        "channel_df\n",
        "-\n",
        "channel_id string PK\n",
        "channel_name    string\n",
        "is_channel      bool\n",
        "creator         string FK >- user_df.user_id\n",
        "created_at      datetime64[ns]\n",
        "topics          string\n",
        "purpose         string\n",
        "num_members     int\n",
        "\n",
        "msg_df\n",
        "-\n",
        "channel_id          string FK >- channel_df.channel_id\n",
        "msg_id              string PK\n",
        "msg_ts              datetime64[ns]\n",
        "user_id             string FK >- user_df.user_id\n",
        "latest_reply        datetime64[ns]\n",
        "reply_user_count    int\n",
        "reply_users         string\n",
        "github_link         NULL string\n",
        "\n",
        "dtc_groups\n",
        "-\n",
        "name                string PK FK >- user_df.name\n",
        "DataCracy_role      string"
      ],
      "execution_count": null,
      "outputs": []
    },
    {
      "cell_type": "markdown",
      "metadata": {
        "id": "0cRVgvCilRZ4"
      },
      "source": [
        "### Test Database Design by SQL\n",
        "* Để giúp các bạn làm quen với việc thao tác trên SQL, ta sử dụng thư việc duckdb, cho phép ta thao tác với Data trên Python bằng SQL: https://duckdb.org/2021/05/14/sql-on-pandas.html\n",
        "* Để hiểu các code SQL bên dưới, tham khảo [SQL Basic Cheatsheet](https://learnsql.com/blog/sql-basics-cheat-sheet/), xem các phần:\n",
        "  * Querying Single Table\n",
        "  * Aliases \n",
        "  * Filtering\n",
        "  * Querying Multiple Tables: Các dạng Join\n",
        "  * Aggregation Functions\n",
        "\n",
        "* Dựa vào DB Diagram bạn đã vẽ, sẽ giúp bạn dễ dàng theo dõi hơn trong việc join và xử lý data"
      ]
    },
    {
      "cell_type": "code",
      "metadata": {
        "colab": {
          "base_uri": "https://localhost:8080/",
          "height": 299
        },
        "id": "mX7DGD1VNU-Q",
        "outputId": "770888ca-2656-42c8-c5f7-4059680fe72b"
      },
      "source": [
        "con = duckdb.connect(database=':memory:', read_only=False) # -> Tạo DB connection\n",
        "# create a table\n",
        "## Đoạn code dưới join 2 bảng user_df vằ dtc_groups bằng key name => Tạo thành bảng members_df\n",
        "SQL_dim_members = '''\n",
        "SELECT \n",
        "  t1.*,\n",
        "  t2.DataCracy_role\n",
        "FROM user_df AS t1\n",
        "JOIN dtc_groups AS t2\n",
        "ON t1.name = t2.name\n",
        "'''\n",
        "members_df=con.execute(SQL_dim_members).fetch_df() # -> Chạy đoạn lệch SQLDataframe"
      ],
      "execution_count": 162,
      "outputs": []
    },
    {
      "cell_type": "code",
      "execution_count": 166,
      "metadata": {},
      "outputs": [
        {
          "output_type": "execute_result",
          "data": {
            "text/plain": [
              "        user_id                name       display_name             real_name  \\\n",
              "0     USLACKBOT            slackbot           Slackbot              Slackbot   \n",
              "1   U01AT4T75JB      loclexuan26392        Loc Le Xuan           Loc Le Xuan   \n",
              "2   U01AVDY7JET            locle.ds        Loc Le Xuan           Loc Le Xuan   \n",
              "3   U01BE2PR6LU      maianhdang.ftu                MAD    Dặng Huỳnh Mai Anh   \n",
              "4   U01C48T7S1J   huyenhoang.design  Thanh Huyen Hoang     Thanh Huyen Hoang   \n",
              "..          ...                 ...                ...                   ...   \n",
              "60  U020P6WPAQJ          thuynh.386                NaN           Thuy Nguyen   \n",
              "61  U020P877V88        huongntn2202                NaN  Huong Nguyen Thi Nhi   \n",
              "62  U021TFMH1RU       mquang.151999       Quang Nguyen          Quang Nguyen   \n",
              "63  U021Y57RMN1            lamlv723             Lâm Lê                Lam Le   \n",
              "64  U0233KHLM2M  vuthanhdat.contact                NaN    Vuthanhdat Contact   \n",
              "\n",
              "                 title  is_bot DataCracy_role  \n",
              "0                  NaN   False            BTC  \n",
              "1                  NaN   False            BTC  \n",
              "2                  NaN   False            BTC  \n",
              "3   Technical Contents   False            BTC  \n",
              "4                  NaN   False            BTC  \n",
              "..                 ...     ...            ...  \n",
              "60                 NaN   False     Mentor_Gr4  \n",
              "61                 NaN   False            NaN  \n",
              "62                 NaN   False            NaN  \n",
              "63                 NaN   False            NaN  \n",
              "64                 NaN   False    Learner_Gr4  \n",
              "\n",
              "[65 rows x 7 columns]"
            ],
            "text/html": "<div>\n<style scoped>\n    .dataframe tbody tr th:only-of-type {\n        vertical-align: middle;\n    }\n\n    .dataframe tbody tr th {\n        vertical-align: top;\n    }\n\n    .dataframe thead th {\n        text-align: right;\n    }\n</style>\n<table border=\"1\" class=\"dataframe\">\n  <thead>\n    <tr style=\"text-align: right;\">\n      <th></th>\n      <th>user_id</th>\n      <th>name</th>\n      <th>display_name</th>\n      <th>real_name</th>\n      <th>title</th>\n      <th>is_bot</th>\n      <th>DataCracy_role</th>\n    </tr>\n  </thead>\n  <tbody>\n    <tr>\n      <td>0</td>\n      <td>USLACKBOT</td>\n      <td>slackbot</td>\n      <td>Slackbot</td>\n      <td>Slackbot</td>\n      <td>NaN</td>\n      <td>False</td>\n      <td>BTC</td>\n    </tr>\n    <tr>\n      <td>1</td>\n      <td>U01AT4T75JB</td>\n      <td>loclexuan26392</td>\n      <td>Loc Le Xuan</td>\n      <td>Loc Le Xuan</td>\n      <td>NaN</td>\n      <td>False</td>\n      <td>BTC</td>\n    </tr>\n    <tr>\n      <td>2</td>\n      <td>U01AVDY7JET</td>\n      <td>locle.ds</td>\n      <td>Loc Le Xuan</td>\n      <td>Loc Le Xuan</td>\n      <td>NaN</td>\n      <td>False</td>\n      <td>BTC</td>\n    </tr>\n    <tr>\n      <td>3</td>\n      <td>U01BE2PR6LU</td>\n      <td>maianhdang.ftu</td>\n      <td>MAD</td>\n      <td>Dặng Huỳnh Mai Anh</td>\n      <td>Technical Contents</td>\n      <td>False</td>\n      <td>BTC</td>\n    </tr>\n    <tr>\n      <td>4</td>\n      <td>U01C48T7S1J</td>\n      <td>huyenhoang.design</td>\n      <td>Thanh Huyen Hoang</td>\n      <td>Thanh Huyen Hoang</td>\n      <td>NaN</td>\n      <td>False</td>\n      <td>BTC</td>\n    </tr>\n    <tr>\n      <td>...</td>\n      <td>...</td>\n      <td>...</td>\n      <td>...</td>\n      <td>...</td>\n      <td>...</td>\n      <td>...</td>\n      <td>...</td>\n    </tr>\n    <tr>\n      <td>60</td>\n      <td>U020P6WPAQJ</td>\n      <td>thuynh.386</td>\n      <td>NaN</td>\n      <td>Thuy Nguyen</td>\n      <td>NaN</td>\n      <td>False</td>\n      <td>Mentor_Gr4</td>\n    </tr>\n    <tr>\n      <td>61</td>\n      <td>U020P877V88</td>\n      <td>huongntn2202</td>\n      <td>NaN</td>\n      <td>Huong Nguyen Thi Nhi</td>\n      <td>NaN</td>\n      <td>False</td>\n      <td>NaN</td>\n    </tr>\n    <tr>\n      <td>62</td>\n      <td>U021TFMH1RU</td>\n      <td>mquang.151999</td>\n      <td>Quang Nguyen</td>\n      <td>Quang Nguyen</td>\n      <td>NaN</td>\n      <td>False</td>\n      <td>NaN</td>\n    </tr>\n    <tr>\n      <td>63</td>\n      <td>U021Y57RMN1</td>\n      <td>lamlv723</td>\n      <td>Lâm Lê</td>\n      <td>Lam Le</td>\n      <td>NaN</td>\n      <td>False</td>\n      <td>NaN</td>\n    </tr>\n    <tr>\n      <td>64</td>\n      <td>U0233KHLM2M</td>\n      <td>vuthanhdat.contact</td>\n      <td>NaN</td>\n      <td>Vuthanhdat Contact</td>\n      <td>NaN</td>\n      <td>False</td>\n      <td>Learner_Gr4</td>\n    </tr>\n  </tbody>\n</table>\n<p>65 rows × 7 columns</p>\n</div>"
          },
          "metadata": {},
          "execution_count": 166
        }
      ],
      "source": [
        "members_df"
      ]
    },
    {
      "cell_type": "code",
      "metadata": {
        "colab": {
          "base_uri": "https://localhost:8080/",
          "height": 274
        },
        "id": "dm66npAfPTT0",
        "outputId": "8fc4e7dd-b6e1-4e22-ef84-53907f5654f3"
      },
      "source": [
        "con.execute(\"SELECT * FROM channel_df LIMIT 7\").fetch_df() # -> In 5 dòng đầu tiên của bảng channel_df ra Dataframe"
      ],
      "execution_count": 22,
      "outputs": [
        {
          "output_type": "execute_result",
          "data": {
            "text/plain": [
              "    channel_id           channel_name  is_channel      creator  \\\n",
              "0  C01B4PVGLVB                general        True  U01BE2PR6LU   \n",
              "1  C01BYH7JHB5               contents        True  U01BE2PR6LU   \n",
              "2  C01CAMNCJJV        branding-design        True  U01AVDY7JET   \n",
              "3  C01U6P7LZ8F       atom-assignment1        True  U01BE2PR6LU   \n",
              "4  C01UL6K1C7L             atom-week1        True  U01BE2PR6LU   \n",
              "5  C01ULCHGN75           atom-general        True  U01BE2PR6LU   \n",
              "6  C020VMT58JK  topics-data-analytics        True  U01BE2PR6LU   \n",
              "\n",
              "           created_at                                             topics  \\\n",
              "0 2020-09-23 17:25:03                                                NaN   \n",
              "1 2020-10-05 14:28:09                                                NaN   \n",
              "2 2020-10-05 10:16:30                                                NaN   \n",
              "3 2021-04-17 14:00:04  Assigment#1 - Python Basics &amp; Spreadsheet ...   \n",
              "4 2021-04-17 00:44:32  TOPIC: Data Strategy. Metrics Design. Spreadsh...   \n",
              "5 2021-04-17 00:42:20              General communication channel of ATOM   \n",
              "6 2021-05-08 13:05:40                                                NaN   \n",
              "\n",
              "                                             purpose  num_members  \n",
              "0  This is the one channel that will always inclu...           65  \n",
              "1                                                NaN           12  \n",
              "2                                                NaN            9  \n",
              "3  Where learners submit assignments and give rev...           44  \n",
              "4  TOPIC: Data Strategy. Metrics Design. Spreadsh...           43  \n",
              "5              General communication channel of ATOM           24  \n",
              "6                                                NaN           19  "
            ],
            "text/html": "<div>\n<style scoped>\n    .dataframe tbody tr th:only-of-type {\n        vertical-align: middle;\n    }\n\n    .dataframe tbody tr th {\n        vertical-align: top;\n    }\n\n    .dataframe thead th {\n        text-align: right;\n    }\n</style>\n<table border=\"1\" class=\"dataframe\">\n  <thead>\n    <tr style=\"text-align: right;\">\n      <th></th>\n      <th>channel_id</th>\n      <th>channel_name</th>\n      <th>is_channel</th>\n      <th>creator</th>\n      <th>created_at</th>\n      <th>topics</th>\n      <th>purpose</th>\n      <th>num_members</th>\n    </tr>\n  </thead>\n  <tbody>\n    <tr>\n      <td>0</td>\n      <td>C01B4PVGLVB</td>\n      <td>general</td>\n      <td>True</td>\n      <td>U01BE2PR6LU</td>\n      <td>2020-09-23 17:25:03</td>\n      <td>NaN</td>\n      <td>This is the one channel that will always inclu...</td>\n      <td>65</td>\n    </tr>\n    <tr>\n      <td>1</td>\n      <td>C01BYH7JHB5</td>\n      <td>contents</td>\n      <td>True</td>\n      <td>U01BE2PR6LU</td>\n      <td>2020-10-05 14:28:09</td>\n      <td>NaN</td>\n      <td>NaN</td>\n      <td>12</td>\n    </tr>\n    <tr>\n      <td>2</td>\n      <td>C01CAMNCJJV</td>\n      <td>branding-design</td>\n      <td>True</td>\n      <td>U01AVDY7JET</td>\n      <td>2020-10-05 10:16:30</td>\n      <td>NaN</td>\n      <td>NaN</td>\n      <td>9</td>\n    </tr>\n    <tr>\n      <td>3</td>\n      <td>C01U6P7LZ8F</td>\n      <td>atom-assignment1</td>\n      <td>True</td>\n      <td>U01BE2PR6LU</td>\n      <td>2021-04-17 14:00:04</td>\n      <td>Assigment#1 - Python Basics &amp;amp; Spreadsheet ...</td>\n      <td>Where learners submit assignments and give rev...</td>\n      <td>44</td>\n    </tr>\n    <tr>\n      <td>4</td>\n      <td>C01UL6K1C7L</td>\n      <td>atom-week1</td>\n      <td>True</td>\n      <td>U01BE2PR6LU</td>\n      <td>2021-04-17 00:44:32</td>\n      <td>TOPIC: Data Strategy. Metrics Design. Spreadsh...</td>\n      <td>TOPIC: Data Strategy. Metrics Design. Spreadsh...</td>\n      <td>43</td>\n    </tr>\n    <tr>\n      <td>5</td>\n      <td>C01ULCHGN75</td>\n      <td>atom-general</td>\n      <td>True</td>\n      <td>U01BE2PR6LU</td>\n      <td>2021-04-17 00:42:20</td>\n      <td>General communication channel of ATOM</td>\n      <td>General communication channel of ATOM</td>\n      <td>24</td>\n    </tr>\n    <tr>\n      <td>6</td>\n      <td>C020VMT58JK</td>\n      <td>topics-data-analytics</td>\n      <td>True</td>\n      <td>U01BE2PR6LU</td>\n      <td>2021-05-08 13:05:40</td>\n      <td>NaN</td>\n      <td>NaN</td>\n      <td>19</td>\n    </tr>\n  </tbody>\n</table>\n</div>"
          },
          "metadata": {},
          "execution_count": 22
        }
      ]
    },
    {
      "cell_type": "code",
      "metadata": {
        "colab": {
          "base_uri": "https://localhost:8080/",
          "height": 194
        },
        "id": "3oKbQTJQPud7",
        "outputId": "282f7199-9023-4494-887e-74694419428c"
      },
      "source": [
        "con.execute(\"SELECT * FROM msg_df LIMIT 5\").fetch_df() # -> In 5 dòng đầu tiên của bảng msg_df ra Dataframe"
      ],
      "execution_count": 17,
      "outputs": [
        {
          "output_type": "execute_result",
          "data": {
            "text/plain": [
              "    channel_id                                msg_id  \\\n",
              "0  C01B4PVGLVB  DEBF1A3C-17AA-4D53-AC27-1FE0884243DB   \n",
              "1  C01B4PVGLVB  48ba219d-fda8-40f2-be65-00735c058071   \n",
              "2  C01B4PVGLVB  89919b55-bfe9-4c15-bf45-3021048c7c28   \n",
              "3  C01B4PVGLVB  18467584-5810-4bb9-80fe-4b92af9b28d0   \n",
              "4  C01B4PVGLVB  dfd2bf1a-69a1-4ac3-aacb-e2daaae8cc04   \n",
              "\n",
              "                      msg_ts      user_id               latest_reply  \\\n",
              "0 2021-05-28 20:50:27.000800  U01JQ5U1RPV 2021-05-28 20:51:51.001200   \n",
              "1 2021-05-25 11:59:27.000600  U01BE2PR6LU 2021-05-25 13:04:44.006500   \n",
              "2 2021-05-24 18:49:08.061100  U01BE2PR6LU 1970-01-01 07:00:00.000000   \n",
              "3 2021-05-23 23:26:04.057000  U01UTGT8CVA 2021-05-24 15:36:52.058100   \n",
              "4 2021-05-23 14:57:36.055300  U01BE2PR6LU 1970-01-01 07:00:00.000000   \n",
              "\n",
              "   reply_user_count reply_users github_link  \n",
              "0                 1         NaN         NaN  \n",
              "1                 4         NaN         NaN  \n",
              "2                 0         NaN         NaN  \n",
              "3                 2         NaN         NaN  \n",
              "4                 0         NaN         NaN  "
            ],
            "text/html": "<div>\n<style scoped>\n    .dataframe tbody tr th:only-of-type {\n        vertical-align: middle;\n    }\n\n    .dataframe tbody tr th {\n        vertical-align: top;\n    }\n\n    .dataframe thead th {\n        text-align: right;\n    }\n</style>\n<table border=\"1\" class=\"dataframe\">\n  <thead>\n    <tr style=\"text-align: right;\">\n      <th></th>\n      <th>channel_id</th>\n      <th>msg_id</th>\n      <th>msg_ts</th>\n      <th>user_id</th>\n      <th>latest_reply</th>\n      <th>reply_user_count</th>\n      <th>reply_users</th>\n      <th>github_link</th>\n    </tr>\n  </thead>\n  <tbody>\n    <tr>\n      <td>0</td>\n      <td>C01B4PVGLVB</td>\n      <td>DEBF1A3C-17AA-4D53-AC27-1FE0884243DB</td>\n      <td>2021-05-28 20:50:27.000800</td>\n      <td>U01JQ5U1RPV</td>\n      <td>2021-05-28 20:51:51.001200</td>\n      <td>1</td>\n      <td>NaN</td>\n      <td>NaN</td>\n    </tr>\n    <tr>\n      <td>1</td>\n      <td>C01B4PVGLVB</td>\n      <td>48ba219d-fda8-40f2-be65-00735c058071</td>\n      <td>2021-05-25 11:59:27.000600</td>\n      <td>U01BE2PR6LU</td>\n      <td>2021-05-25 13:04:44.006500</td>\n      <td>4</td>\n      <td>NaN</td>\n      <td>NaN</td>\n    </tr>\n    <tr>\n      <td>2</td>\n      <td>C01B4PVGLVB</td>\n      <td>89919b55-bfe9-4c15-bf45-3021048c7c28</td>\n      <td>2021-05-24 18:49:08.061100</td>\n      <td>U01BE2PR6LU</td>\n      <td>1970-01-01 07:00:00.000000</td>\n      <td>0</td>\n      <td>NaN</td>\n      <td>NaN</td>\n    </tr>\n    <tr>\n      <td>3</td>\n      <td>C01B4PVGLVB</td>\n      <td>18467584-5810-4bb9-80fe-4b92af9b28d0</td>\n      <td>2021-05-23 23:26:04.057000</td>\n      <td>U01UTGT8CVA</td>\n      <td>2021-05-24 15:36:52.058100</td>\n      <td>2</td>\n      <td>NaN</td>\n      <td>NaN</td>\n    </tr>\n    <tr>\n      <td>4</td>\n      <td>C01B4PVGLVB</td>\n      <td>dfd2bf1a-69a1-4ac3-aacb-e2daaae8cc04</td>\n      <td>2021-05-23 14:57:36.055300</td>\n      <td>U01BE2PR6LU</td>\n      <td>1970-01-01 07:00:00.000000</td>\n      <td>0</td>\n      <td>NaN</td>\n      <td>NaN</td>\n    </tr>\n  </tbody>\n</table>\n</div>"
          },
          "metadata": {},
          "execution_count": 17
        }
      ]
    },
    {
      "cell_type": "code",
      "metadata": {
        "colab": {
          "base_uri": "https://localhost:8080/",
          "height": 320
        },
        "id": "YfbwLZFrP0GY",
        "outputId": "2b9cb5d2-a4ec-4c7e-e8e4-f9e69152e6c2"
      },
      "source": [
        "## Đoạn code dưới: Theo từng channel, count số message (phải join với bảng channel_df để lấy tên channel)\n",
        "SQL = '''\n",
        "SELECT \n",
        "  t2.channel_name,\n",
        "  COUNT(DISTINCT t1.msg_id) AS msg_cnt\n",
        "FROM msg_df AS t1\n",
        "JOIN channel_df AS t2\n",
        "ON t1.channel_id = t2.channel_id\n",
        "GROUP BY t2.channel_name \n",
        "ORDER BY COUNT(DISTINCT t1.msg_id) DESC\n",
        "'''\n",
        "con.execute(SQL).fetch_df()"
      ],
      "execution_count": 18,
      "outputs": [
        {
          "output_type": "execute_result",
          "data": {
            "text/plain": [
              "        channel_name  msg_cnt\n",
              "0            general       43\n",
              "1   atom-assignment1       42\n",
              "2   atom-assignment2       42\n",
              "3   atom-assignment3       38\n",
              "4     discuss-group1       32\n",
              "5     discuss-group3       16\n",
              "6      topics-python       13\n",
              "7     discuss-group4       11\n",
              "8   atom-assignment4       10\n",
              "9         atom-week1        6\n",
              "10    discuss-group2        6\n",
              "11  topics-materials        3\n",
              "12        atom-week3        2\n",
              "13        atom-week4        2"
            ],
            "text/html": "<div>\n<style scoped>\n    .dataframe tbody tr th:only-of-type {\n        vertical-align: middle;\n    }\n\n    .dataframe tbody tr th {\n        vertical-align: top;\n    }\n\n    .dataframe thead th {\n        text-align: right;\n    }\n</style>\n<table border=\"1\" class=\"dataframe\">\n  <thead>\n    <tr style=\"text-align: right;\">\n      <th></th>\n      <th>channel_name</th>\n      <th>msg_cnt</th>\n    </tr>\n  </thead>\n  <tbody>\n    <tr>\n      <td>0</td>\n      <td>general</td>\n      <td>43</td>\n    </tr>\n    <tr>\n      <td>1</td>\n      <td>atom-assignment1</td>\n      <td>42</td>\n    </tr>\n    <tr>\n      <td>2</td>\n      <td>atom-assignment2</td>\n      <td>42</td>\n    </tr>\n    <tr>\n      <td>3</td>\n      <td>atom-assignment3</td>\n      <td>38</td>\n    </tr>\n    <tr>\n      <td>4</td>\n      <td>discuss-group1</td>\n      <td>32</td>\n    </tr>\n    <tr>\n      <td>5</td>\n      <td>discuss-group3</td>\n      <td>16</td>\n    </tr>\n    <tr>\n      <td>6</td>\n      <td>topics-python</td>\n      <td>13</td>\n    </tr>\n    <tr>\n      <td>7</td>\n      <td>discuss-group4</td>\n      <td>11</td>\n    </tr>\n    <tr>\n      <td>8</td>\n      <td>atom-assignment4</td>\n      <td>10</td>\n    </tr>\n    <tr>\n      <td>9</td>\n      <td>atom-week1</td>\n      <td>6</td>\n    </tr>\n    <tr>\n      <td>10</td>\n      <td>discuss-group2</td>\n      <td>6</td>\n    </tr>\n    <tr>\n      <td>11</td>\n      <td>topics-materials</td>\n      <td>3</td>\n    </tr>\n    <tr>\n      <td>12</td>\n      <td>atom-week3</td>\n      <td>2</td>\n    </tr>\n    <tr>\n      <td>13</td>\n      <td>atom-week4</td>\n      <td>2</td>\n    </tr>\n  </tbody>\n</table>\n</div>"
          },
          "metadata": {},
          "execution_count": 18
        }
      ]
    },
    {
      "cell_type": "code",
      "metadata": {
        "colab": {
          "base_uri": "https://localhost:8080/",
          "height": 152
        },
        "id": "u2nWGleAQuDs",
        "outputId": "40e04058-43cd-4c80-c301-e3792adca41d"
      },
      "source": [
        "## Đoạn code dưới: Lấy top 3 mentors post nhiều message nhất trong discuss-group của các nhóm\n",
        "SQL = '''\n",
        "WITH msg_cnt AS ( ------------- > (1) Chain SQL: tạo bảng tạm thời msg_cnt: count số msg theo user, theo channel\n",
        "  SELECT \n",
        "    user_id,\n",
        "    channel_id,\n",
        "    COUNT(msg_id) AS msg_cnt\n",
        "  FROM msg_df \n",
        "  GROUP BY 1, 2\n",
        ")\n",
        "SELECT\n",
        "  t2.real_name,\n",
        "  t3.channel_name,\n",
        "  t1.msg_cnt,\n",
        "  t2.DataCracy_role\n",
        "FROM msg_cnt AS t1\n",
        "JOIN members_df AS t2 ------------ > (2) Join msg_count với members_df để lấy tên và role\n",
        "ON t1.user_id = t2.user_id\n",
        "JOIN channel_df AS t3 --> (3) Join với channel_df để lấy tên channel\n",
        "ON t1.channel_id = t3.channel_id\n",
        "WHERE t2.DataCracy_role LIKE 'Mentor%' ------------- > (4) Filter Mentors\n",
        "AND t3.channel_name LIKE 'discuss-group%' ---------- > (5) Filter channel discuss theo các group\n",
        "ORDER BY t1.msg_cnt DESC ---------- > (6) Sẵp xếp theo số msg từ cao xuống thấp\n",
        "--LIMIT 3 ------------> (7) Lấy top 3\n",
        "'''\n",
        "con.execute(SQL).fetch_df()"
      ],
      "execution_count": 20,
      "outputs": [
        {
          "output_type": "execute_result",
          "data": {
            "text/plain": [
              "           real_name    channel_name  msg_cnt DataCracy_role\n",
              "0            Phu NDT  discuss-group1       11     Mentor_Gr1\n",
              "1  Nguyễn Quang Long  discuss-group3        9     Mentor_Gr3\n",
              "2        Thuy Nguyen  discuss-group4        4     Mentor_Gr4\n",
              "3           Tan Trần  discuss-group2        2     Mentor_Gr2"
            ],
            "text/html": "<div>\n<style scoped>\n    .dataframe tbody tr th:only-of-type {\n        vertical-align: middle;\n    }\n\n    .dataframe tbody tr th {\n        vertical-align: top;\n    }\n\n    .dataframe thead th {\n        text-align: right;\n    }\n</style>\n<table border=\"1\" class=\"dataframe\">\n  <thead>\n    <tr style=\"text-align: right;\">\n      <th></th>\n      <th>real_name</th>\n      <th>channel_name</th>\n      <th>msg_cnt</th>\n      <th>DataCracy_role</th>\n    </tr>\n  </thead>\n  <tbody>\n    <tr>\n      <td>0</td>\n      <td>Phu NDT</td>\n      <td>discuss-group1</td>\n      <td>11</td>\n      <td>Mentor_Gr1</td>\n    </tr>\n    <tr>\n      <td>1</td>\n      <td>Nguyễn Quang Long</td>\n      <td>discuss-group3</td>\n      <td>9</td>\n      <td>Mentor_Gr3</td>\n    </tr>\n    <tr>\n      <td>2</td>\n      <td>Thuy Nguyen</td>\n      <td>discuss-group4</td>\n      <td>4</td>\n      <td>Mentor_Gr4</td>\n    </tr>\n    <tr>\n      <td>3</td>\n      <td>Tan Trần</td>\n      <td>discuss-group2</td>\n      <td>2</td>\n      <td>Mentor_Gr2</td>\n    </tr>\n  </tbody>\n</table>\n</div>"
          },
          "metadata": {},
          "execution_count": 20
        }
      ]
    },
    {
      "cell_type": "markdown",
      "metadata": {
        "id": "-Bl1-Qi4ll6v"
      },
      "source": [
        "### TODO#6: SQL\n",
        "* Thay đổi các phần trong những đoạn code SQL trên, print kết quả để hiểu về code\n",
        "* Tham khảo thêm [SQL Basic Cheatsheet](https://learnsql.com/blog/sql-basics-cheat-sheet/)\n",
        "* Và, GOOGLE! + Cùng trao đổi trên Slack\n",
        "* Và viết SQL để trả lời các câu hỏi sau:\n",
        "```\n",
        "  1. Learners groups nào hoạt động tích cực trên Slack nhất? (tính theo message count)?\n",
        "  Learners nào nộp bài sớm nhất trong Assignment 1, 2, 3?\n",
        "  2. Learner nào nộp bài trễ nhất trong Assignment 1, 2, 3?\n",
        "  3. Learner nào chưa nộp bài Assignment 3?\n",
        "  4. Learner nào chưa nộp bất kỳ 1 assignment nào?\n",
        "  5. Tỷ lệ % Learner đã nộp assignment 1, 2, 3? (*giả sử có message trong channel atom-assignment, được tính là đã submit*)\n",
        "  6. Tỷ lệ % Learner đã submit bài và dc review trong assignment 1, 2, 3?\n",
        "  7. Learners theo Group nào có tỷ lệ % hoàn thành bài tập cao nhất?\n",
        "```\n",
        "* `[Optional]` Bạn có thể tự đặt thêm bất kỳ câu hỏi nào bạn quan tâm\n",
        "\n"
      ]
    },
    {
      "cell_type": "code",
      "execution_count": 30,
      "metadata": {},
      "outputs": [],
      "source": [
        "## Top 3 Learners hoạt động tích cực trên Slack nhất (tính theo message count)\n",
        "SQL_1 = '''\n",
        "WITH msg_cnt AS ( ------------- > (1) Chain SQL: tạo bảng tạm thời msg_cnt: count số msg theo user, theo channel\n",
        "  SELECT \n",
        "    user_id,\n",
        "    channel_id,\n",
        "    COUNT(msg_id) AS msg_cnt\n",
        "  FROM msg_df \n",
        "  GROUP BY 1, 2\n",
        ")\n",
        "SELECT\n",
        "  t2.real_name,\n",
        "  t1.msg_cnt,\n",
        "  t2.DataCracy_role\n",
        "FROM msg_cnt AS t1\n",
        "JOIN members_df AS t2 ------------ > (2) Join msg_count với members_df để lấy tên và role\n",
        "ON t1.user_id = t2.user_id\n",
        "WHERE t2.DataCracy_role LIKE 'Learner%' ------------- > (4) Filter Learner\n",
        "ORDER BY t1.msg_cnt DESC ---------- > (6) Sẵp xếp theo số msg từ cao xuống thấp\n",
        "LIMIT 3 ------------> (7) Lấy top 3\n",
        "'''\n",
        "a=con.execute(SQL_1).fetch_df()"
      ]
    },
    {
      "cell_type": "code",
      "execution_count": 34,
      "metadata": {},
      "outputs": [
        {
          "output_type": "execute_result",
          "data": {
            "text/plain": [
              "       real_name  msg_cnt DataCracy_role\n",
              "0  Việt Hồng Chu       11    Learner_Gr1\n",
              "1    Hanh Nguyen        4    Learner_Gr4\n",
              "2          Vy Le        3    Learner_Gr4"
            ],
            "text/html": "<div>\n<style scoped>\n    .dataframe tbody tr th:only-of-type {\n        vertical-align: middle;\n    }\n\n    .dataframe tbody tr th {\n        vertical-align: top;\n    }\n\n    .dataframe thead th {\n        text-align: right;\n    }\n</style>\n<table border=\"1\" class=\"dataframe\">\n  <thead>\n    <tr style=\"text-align: right;\">\n      <th></th>\n      <th>real_name</th>\n      <th>msg_cnt</th>\n      <th>DataCracy_role</th>\n    </tr>\n  </thead>\n  <tbody>\n    <tr>\n      <td>0</td>\n      <td>Việt Hồng Chu</td>\n      <td>11</td>\n      <td>Learner_Gr1</td>\n    </tr>\n    <tr>\n      <td>1</td>\n      <td>Hanh Nguyen</td>\n      <td>4</td>\n      <td>Learner_Gr4</td>\n    </tr>\n    <tr>\n      <td>2</td>\n      <td>Vy Le</td>\n      <td>3</td>\n      <td>Learner_Gr4</td>\n    </tr>\n  </tbody>\n</table>\n</div>"
          },
          "metadata": {},
          "execution_count": 34
        }
      ],
      "source": [
        "a"
      ]
    },
    {
      "cell_type": "code",
      "metadata": {
        "id": "rc0B-zKh3Qmm"
      },
      "source": [
        "#Bang the hien thoi gian gui tin nhan trong cac group nop bai\n",
        "SQL_1a = '''\n",
        "-- YOUR CODE\n",
        "SELECT\n",
        "  t2.user_id,  \n",
        "  t2.real_name,\n",
        "  t3.channel_name,\n",
        "  t1.msg_ts,\n",
        "  t1.github_link\n",
        "FROM msg_df AS t1\n",
        "JOIN members_df AS t2 ------------ > (2) Join msg_count với members_df để lấy tên và role\n",
        "ON t1.user_id = t2.user_id\n",
        "JOIN channel_df AS t3 --> (3) Join với channel_df để lấy tên channel\n",
        "ON t1.channel_id = t3.channel_id\n",
        "WHERE t2.DataCracy_role LIKE 'Learner%' ------------- > (4) Filter Learner\n",
        "AND t3.channel_name LIKE 'atom-assignment%' ---------- > (5) Filter channel discuss theo các group\n",
        "AND t1.github_link IS NOT NULL ---------- > (5) Filter tin nhan co link submission\n",
        "ORDER BY t1.msg_ts  ---------- > (6) Sẵp xếp theo thời gian từ cao xuống thấp\n",
        "'''\n",
        "submit = con.execute(SQL_1a).fetch_df()"
      ],
      "execution_count": 144,
      "outputs": []
    },
    {
      "cell_type": "code",
      "execution_count": 145,
      "metadata": {},
      "outputs": [
        {
          "output_type": "execute_result",
          "data": {
            "text/plain": [
              "        user_id           real_name      channel_name  \\\n",
              "89  U01VB632FPS    Anh Ha Van Huỳnh  atom-assignment4   \n",
              "90  U01U6JQB695          Giang Phan  atom-assignment3   \n",
              "91  U01USGKQ771  Ngo Thi Minh Trang  atom-assignment3   \n",
              "92  U01UMJ36QD9         Quan Nguyễn  atom-assignment4   \n",
              "93  U01UMC0N5U2       Việt Hồng Chu  atom-assignment4   \n",
              "\n",
              "                       msg_ts                         github_link  \n",
              "89 2021-05-26 22:03:21.006900    https://github.com/Ha-Huynh-Anh/  \n",
              "90 2021-05-27 11:51:30.001100     https://github.com/Tenderriver/  \n",
              "91 2021-05-27 22:30:16.003200    https://github.com/TrangNgo1709/  \n",
              "92 2021-05-28 00:03:22.002600      https://github.com/Quan030994/  \n",
              "93 2021-05-28 19:53:25.001600  https://github.com/chuviethongfpt/  "
            ],
            "text/html": "<div>\n<style scoped>\n    .dataframe tbody tr th:only-of-type {\n        vertical-align: middle;\n    }\n\n    .dataframe tbody tr th {\n        vertical-align: top;\n    }\n\n    .dataframe thead th {\n        text-align: right;\n    }\n</style>\n<table border=\"1\" class=\"dataframe\">\n  <thead>\n    <tr style=\"text-align: right;\">\n      <th></th>\n      <th>user_id</th>\n      <th>real_name</th>\n      <th>channel_name</th>\n      <th>msg_ts</th>\n      <th>github_link</th>\n    </tr>\n  </thead>\n  <tbody>\n    <tr>\n      <td>89</td>\n      <td>U01VB632FPS</td>\n      <td>Anh Ha Van Huỳnh</td>\n      <td>atom-assignment4</td>\n      <td>2021-05-26 22:03:21.006900</td>\n      <td>https://github.com/Ha-Huynh-Anh/</td>\n    </tr>\n    <tr>\n      <td>90</td>\n      <td>U01U6JQB695</td>\n      <td>Giang Phan</td>\n      <td>atom-assignment3</td>\n      <td>2021-05-27 11:51:30.001100</td>\n      <td>https://github.com/Tenderriver/</td>\n    </tr>\n    <tr>\n      <td>91</td>\n      <td>U01USGKQ771</td>\n      <td>Ngo Thi Minh Trang</td>\n      <td>atom-assignment3</td>\n      <td>2021-05-27 22:30:16.003200</td>\n      <td>https://github.com/TrangNgo1709/</td>\n    </tr>\n    <tr>\n      <td>92</td>\n      <td>U01UMJ36QD9</td>\n      <td>Quan Nguyễn</td>\n      <td>atom-assignment4</td>\n      <td>2021-05-28 00:03:22.002600</td>\n      <td>https://github.com/Quan030994/</td>\n    </tr>\n    <tr>\n      <td>93</td>\n      <td>U01UMC0N5U2</td>\n      <td>Việt Hồng Chu</td>\n      <td>atom-assignment4</td>\n      <td>2021-05-28 19:53:25.001600</td>\n      <td>https://github.com/chuviethongfpt/</td>\n    </tr>\n  </tbody>\n</table>\n</div>"
          },
          "metadata": {},
          "execution_count": 145
        }
      ],
      "source": [
        "submit.tail()"
      ]
    },
    {
      "cell_type": "code",
      "execution_count": 136,
      "metadata": {},
      "outputs": [],
      "source": [
        "##Thời gian nộp bài sớm nhât + trễ nhất của các assignment\n",
        "SQL_1b = '''\n",
        "    SELECT\n",
        "        channel_name,\n",
        "        MIN(msg_ts) AS soonest_submit, \n",
        "        MAX(msg_ts) AS lastest_submit\n",
        "    FROM submit\n",
        "    GROUP BY channel_name\n",
        "'''\n",
        "sb = con.execute(SQL_1b).fetch_df()\n"
      ]
    },
    {
      "cell_type": "code",
      "execution_count": 137,
      "metadata": {},
      "outputs": [
        {
          "output_type": "execute_result",
          "data": {
            "text/plain": [
              "       channel_name             soonest_submit             lastest_submit\n",
              "0  atom-assignment1 2021-04-21 13:00:34.000800 2021-05-10 11:51:46.004700\n",
              "1  atom-assignment2 2021-05-12 22:50:48.004000 2021-05-22 12:39:34.015500\n",
              "2  atom-assignment3 2021-05-16 19:08:08.018900 2021-05-27 22:30:16.003200\n",
              "3  atom-assignment4 2021-05-26 00:46:52.015200 2021-05-28 19:53:25.001600"
            ],
            "text/html": "<div>\n<style scoped>\n    .dataframe tbody tr th:only-of-type {\n        vertical-align: middle;\n    }\n\n    .dataframe tbody tr th {\n        vertical-align: top;\n    }\n\n    .dataframe thead th {\n        text-align: right;\n    }\n</style>\n<table border=\"1\" class=\"dataframe\">\n  <thead>\n    <tr style=\"text-align: right;\">\n      <th></th>\n      <th>channel_name</th>\n      <th>soonest_submit</th>\n      <th>lastest_submit</th>\n    </tr>\n  </thead>\n  <tbody>\n    <tr>\n      <td>0</td>\n      <td>atom-assignment1</td>\n      <td>2021-04-21 13:00:34.000800</td>\n      <td>2021-05-10 11:51:46.004700</td>\n    </tr>\n    <tr>\n      <td>1</td>\n      <td>atom-assignment2</td>\n      <td>2021-05-12 22:50:48.004000</td>\n      <td>2021-05-22 12:39:34.015500</td>\n    </tr>\n    <tr>\n      <td>2</td>\n      <td>atom-assignment3</td>\n      <td>2021-05-16 19:08:08.018900</td>\n      <td>2021-05-27 22:30:16.003200</td>\n    </tr>\n    <tr>\n      <td>3</td>\n      <td>atom-assignment4</td>\n      <td>2021-05-26 00:46:52.015200</td>\n      <td>2021-05-28 19:53:25.001600</td>\n    </tr>\n  </tbody>\n</table>\n</div>"
          },
          "metadata": {},
          "execution_count": 137
        }
      ],
      "source": [
        "sb"
      ]
    },
    {
      "cell_type": "code",
      "execution_count": 146,
      "metadata": {},
      "outputs": [
        {
          "output_type": "execute_result",
          "data": {
            "text/plain": [
              "              real_name      channel_name                     msg_ts  \\\n",
              "0   Hưng Dương Phan Nam  atom-assignment1 2021-04-21 13:00:34.000800   \n",
              "1             Toan Tran  atom-assignment2 2021-05-12 22:50:48.004000   \n",
              "2           Hanh Nguyen  atom-assignment3 2021-05-16 19:08:08.018900   \n",
              "3  Cao Nguyen Huy Hoang  atom-assignment4 2021-05-26 00:46:52.015200   \n",
              "\n",
              "                              github_link  \n",
              "0    https://github.com/duongphannamhung/  \n",
              "1        https://github.com/toantran2206/  \n",
              "2  https://github.com/nguyenhonghanh2511/  \n",
              "3         https://github.com/cnhhoang850/  "
            ],
            "text/html": "<div>\n<style scoped>\n    .dataframe tbody tr th:only-of-type {\n        vertical-align: middle;\n    }\n\n    .dataframe tbody tr th {\n        vertical-align: top;\n    }\n\n    .dataframe thead th {\n        text-align: right;\n    }\n</style>\n<table border=\"1\" class=\"dataframe\">\n  <thead>\n    <tr style=\"text-align: right;\">\n      <th></th>\n      <th>real_name</th>\n      <th>channel_name</th>\n      <th>msg_ts</th>\n      <th>github_link</th>\n    </tr>\n  </thead>\n  <tbody>\n    <tr>\n      <td>0</td>\n      <td>Hưng Dương Phan Nam</td>\n      <td>atom-assignment1</td>\n      <td>2021-04-21 13:00:34.000800</td>\n      <td>https://github.com/duongphannamhung/</td>\n    </tr>\n    <tr>\n      <td>1</td>\n      <td>Toan Tran</td>\n      <td>atom-assignment2</td>\n      <td>2021-05-12 22:50:48.004000</td>\n      <td>https://github.com/toantran2206/</td>\n    </tr>\n    <tr>\n      <td>2</td>\n      <td>Hanh Nguyen</td>\n      <td>atom-assignment3</td>\n      <td>2021-05-16 19:08:08.018900</td>\n      <td>https://github.com/nguyenhonghanh2511/</td>\n    </tr>\n    <tr>\n      <td>3</td>\n      <td>Cao Nguyen Huy Hoang</td>\n      <td>atom-assignment4</td>\n      <td>2021-05-26 00:46:52.015200</td>\n      <td>https://github.com/cnhhoang850/</td>\n    </tr>\n  </tbody>\n</table>\n</div>"
          },
          "metadata": {},
          "execution_count": 146
        }
      ],
      "source": [
        "##Learners nào nộp bài sớm nhất trong Assignment 1, 2, 3?\n",
        "SQL_t = '''\n",
        "SELECT\n",
        "  t.real_name,\n",
        "  t.channel_name,\n",
        "  t.msg_ts,\n",
        "  t.github_link\n",
        "FROM submit as t\n",
        "WHERE t.msg_ts = (\n",
        "  SELECT \n",
        "  soonest_submit\n",
        "  FROM sb\n",
        "  WHERE channel_name = t.channel_name\n",
        ")\n",
        "'''\n",
        "con.execute(SQL_t).fetch_df()"
      ]
    },
    {
      "cell_type": "code",
      "execution_count": 143,
      "metadata": {},
      "outputs": [
        {
          "output_type": "execute_result",
          "data": {
            "text/plain": [
              "            real_name      channel_name                     msg_ts  \\\n",
              "0           Danh Phan  atom-assignment1 2021-05-10 11:51:46.004700   \n",
              "1         Hanh Nguyen  atom-assignment2 2021-05-22 12:39:34.015500   \n",
              "2  Ngo Thi Minh Trang  atom-assignment3 2021-05-27 22:30:16.003200   \n",
              "3       Việt Hồng Chu  atom-assignment4 2021-05-28 19:53:25.001600   \n",
              "\n",
              "                              github_link  \n",
              "0             https://github.com/danhpcv/  \n",
              "1  https://github.com/nguyenhonghanh2511/  \n",
              "2        https://github.com/TrangNgo1709/  \n",
              "3      https://github.com/chuviethongfpt/  "
            ],
            "text/html": "<div>\n<style scoped>\n    .dataframe tbody tr th:only-of-type {\n        vertical-align: middle;\n    }\n\n    .dataframe tbody tr th {\n        vertical-align: top;\n    }\n\n    .dataframe thead th {\n        text-align: right;\n    }\n</style>\n<table border=\"1\" class=\"dataframe\">\n  <thead>\n    <tr style=\"text-align: right;\">\n      <th></th>\n      <th>real_name</th>\n      <th>channel_name</th>\n      <th>msg_ts</th>\n      <th>github_link</th>\n    </tr>\n  </thead>\n  <tbody>\n    <tr>\n      <td>0</td>\n      <td>Danh Phan</td>\n      <td>atom-assignment1</td>\n      <td>2021-05-10 11:51:46.004700</td>\n      <td>https://github.com/danhpcv/</td>\n    </tr>\n    <tr>\n      <td>1</td>\n      <td>Hanh Nguyen</td>\n      <td>atom-assignment2</td>\n      <td>2021-05-22 12:39:34.015500</td>\n      <td>https://github.com/nguyenhonghanh2511/</td>\n    </tr>\n    <tr>\n      <td>2</td>\n      <td>Ngo Thi Minh Trang</td>\n      <td>atom-assignment3</td>\n      <td>2021-05-27 22:30:16.003200</td>\n      <td>https://github.com/TrangNgo1709/</td>\n    </tr>\n    <tr>\n      <td>3</td>\n      <td>Việt Hồng Chu</td>\n      <td>atom-assignment4</td>\n      <td>2021-05-28 19:53:25.001600</td>\n      <td>https://github.com/chuviethongfpt/</td>\n    </tr>\n  </tbody>\n</table>\n</div>"
          },
          "metadata": {},
          "execution_count": 143
        }
      ],
      "source": [
        "##Learners nào nộp bài trễ nhất trong Assignment 1, 2, 3?\n",
        "SQL_l = '''\n",
        "SELECT\n",
        "  t.real_name,\n",
        "  t.channel_name,\n",
        "  t.msg_ts,\n",
        "  t.github_link\n",
        "FROM submit as t\n",
        "WHERE t.msg_ts = (\n",
        "  SELECT \n",
        "  lastest_submit\n",
        "  FROM sb\n",
        "  WHERE channel_name = t.channel_name\n",
        ")\n",
        "'''\n",
        "con.execute(SQL_l).fetch_df()"
      ]
    },
    {
      "cell_type": "code",
      "execution_count": 167,
      "metadata": {},
      "outputs": [
        {
          "output_type": "execute_result",
          "data": {
            "text/plain": [
              "        user_id                name  display_name             real_name title  \\\n",
              "60  U020P6WPAQJ          thuynh.386           NaN           Thuy Nguyen   NaN   \n",
              "61  U020P877V88        huongntn2202           NaN  Huong Nguyen Thi Nhi   NaN   \n",
              "62  U021TFMH1RU       mquang.151999  Quang Nguyen          Quang Nguyen   NaN   \n",
              "63  U021Y57RMN1            lamlv723        Lâm Lê                Lam Le   NaN   \n",
              "64  U0233KHLM2M  vuthanhdat.contact           NaN    Vuthanhdat Contact   NaN   \n",
              "\n",
              "    is_bot DataCracy_role  \n",
              "60   False     Mentor_Gr4  \n",
              "61   False            NaN  \n",
              "62   False            NaN  \n",
              "63   False            NaN  \n",
              "64   False    Learner_Gr4  "
            ],
            "text/html": "<div>\n<style scoped>\n    .dataframe tbody tr th:only-of-type {\n        vertical-align: middle;\n    }\n\n    .dataframe tbody tr th {\n        vertical-align: top;\n    }\n\n    .dataframe thead th {\n        text-align: right;\n    }\n</style>\n<table border=\"1\" class=\"dataframe\">\n  <thead>\n    <tr style=\"text-align: right;\">\n      <th></th>\n      <th>user_id</th>\n      <th>name</th>\n      <th>display_name</th>\n      <th>real_name</th>\n      <th>title</th>\n      <th>is_bot</th>\n      <th>DataCracy_role</th>\n    </tr>\n  </thead>\n  <tbody>\n    <tr>\n      <td>60</td>\n      <td>U020P6WPAQJ</td>\n      <td>thuynh.386</td>\n      <td>NaN</td>\n      <td>Thuy Nguyen</td>\n      <td>NaN</td>\n      <td>False</td>\n      <td>Mentor_Gr4</td>\n    </tr>\n    <tr>\n      <td>61</td>\n      <td>U020P877V88</td>\n      <td>huongntn2202</td>\n      <td>NaN</td>\n      <td>Huong Nguyen Thi Nhi</td>\n      <td>NaN</td>\n      <td>False</td>\n      <td>NaN</td>\n    </tr>\n    <tr>\n      <td>62</td>\n      <td>U021TFMH1RU</td>\n      <td>mquang.151999</td>\n      <td>Quang Nguyen</td>\n      <td>Quang Nguyen</td>\n      <td>NaN</td>\n      <td>False</td>\n      <td>NaN</td>\n    </tr>\n    <tr>\n      <td>63</td>\n      <td>U021Y57RMN1</td>\n      <td>lamlv723</td>\n      <td>Lâm Lê</td>\n      <td>Lam Le</td>\n      <td>NaN</td>\n      <td>False</td>\n      <td>NaN</td>\n    </tr>\n    <tr>\n      <td>64</td>\n      <td>U0233KHLM2M</td>\n      <td>vuthanhdat.contact</td>\n      <td>NaN</td>\n      <td>Vuthanhdat Contact</td>\n      <td>NaN</td>\n      <td>False</td>\n      <td>Learner_Gr4</td>\n    </tr>\n  </tbody>\n</table>\n</div>"
          },
          "metadata": {},
          "execution_count": 167
        }
      ],
      "source": [
        "members_df.tail()"
      ]
    },
    {
      "cell_type": "code",
      "execution_count": 172,
      "metadata": {},
      "outputs": [
        {
          "output_type": "execute_result",
          "data": {
            "text/plain": [
              "                real_name DataCracy_role\n",
              "0              Viet Hoang    Learner_Gr4\n",
              "1              Ngoc Huyen    Learner_Gr1\n",
              "2            Trang Nguyễn    Learner_Gr3\n",
              "3     Nguyen Thi Kim Minh    Learner_Gr2\n",
              "4             Nguyen Linh    Learner_Gr1\n",
              "5   Minh-Thu Nguyen Hoang    Learner_Gr4\n",
              "6           Việt Hồng Chu    Learner_Gr1\n",
              "7               Tran Pham    Learner_Gr3\n",
              "8                 Linh Vu    Learner_Gr4\n",
              "9    anh thu nguyen huynh    Learner_Gr4\n",
              "10             Le Thi Tam    Learner_Gr1\n",
              "11         Gia Hoang Tran    Learner_Gr1\n",
              "12     Vuthanhdat Contact    Learner_Gr4"
            ],
            "text/html": "<div>\n<style scoped>\n    .dataframe tbody tr th:only-of-type {\n        vertical-align: middle;\n    }\n\n    .dataframe tbody tr th {\n        vertical-align: top;\n    }\n\n    .dataframe thead th {\n        text-align: right;\n    }\n</style>\n<table border=\"1\" class=\"dataframe\">\n  <thead>\n    <tr style=\"text-align: right;\">\n      <th></th>\n      <th>real_name</th>\n      <th>DataCracy_role</th>\n    </tr>\n  </thead>\n  <tbody>\n    <tr>\n      <td>0</td>\n      <td>Viet Hoang</td>\n      <td>Learner_Gr4</td>\n    </tr>\n    <tr>\n      <td>1</td>\n      <td>Ngoc Huyen</td>\n      <td>Learner_Gr1</td>\n    </tr>\n    <tr>\n      <td>2</td>\n      <td>Trang Nguyễn</td>\n      <td>Learner_Gr3</td>\n    </tr>\n    <tr>\n      <td>3</td>\n      <td>Nguyen Thi Kim Minh</td>\n      <td>Learner_Gr2</td>\n    </tr>\n    <tr>\n      <td>4</td>\n      <td>Nguyen Linh</td>\n      <td>Learner_Gr1</td>\n    </tr>\n    <tr>\n      <td>5</td>\n      <td>Minh-Thu Nguyen Hoang</td>\n      <td>Learner_Gr4</td>\n    </tr>\n    <tr>\n      <td>6</td>\n      <td>Việt Hồng Chu</td>\n      <td>Learner_Gr1</td>\n    </tr>\n    <tr>\n      <td>7</td>\n      <td>Tran Pham</td>\n      <td>Learner_Gr3</td>\n    </tr>\n    <tr>\n      <td>8</td>\n      <td>Linh Vu</td>\n      <td>Learner_Gr4</td>\n    </tr>\n    <tr>\n      <td>9</td>\n      <td>anh thu nguyen huynh</td>\n      <td>Learner_Gr4</td>\n    </tr>\n    <tr>\n      <td>10</td>\n      <td>Le Thi Tam</td>\n      <td>Learner_Gr1</td>\n    </tr>\n    <tr>\n      <td>11</td>\n      <td>Gia Hoang Tran</td>\n      <td>Learner_Gr1</td>\n    </tr>\n    <tr>\n      <td>12</td>\n      <td>Vuthanhdat Contact</td>\n      <td>Learner_Gr4</td>\n    </tr>\n  </tbody>\n</table>\n</div>"
          },
          "metadata": {},
          "execution_count": 172
        }
      ],
      "source": [
        "###3Learner nào chưa nộp bài Assignment 3\n",
        "SQL3 = '''\n",
        "SELECT\n",
        "  t.real_name,  \n",
        "  t.DataCracy_role\n",
        "FROM members_df as t\n",
        "WHERE t.user_id NOT IN (\n",
        "  SELECT \n",
        "  user_id\n",
        "  FROM submit\n",
        "  WHERE channel_name = 'atom-assignment3'\n",
        ")\n",
        "AND t.DataCracy_role LIKE 'Learner%'\n",
        "'''\n",
        "con.execute(SQL3).fetch_df()"
      ]
    },
    {
      "cell_type": "code",
      "execution_count": 171,
      "metadata": {},
      "outputs": [
        {
          "output_type": "execute_result",
          "data": {
            "text/plain": [
              "            real_name DataCracy_role\n",
              "0          Ngoc Huyen    Learner_Gr1\n",
              "1         Nguyen Linh    Learner_Gr1\n",
              "2      Gia Hoang Tran    Learner_Gr1\n",
              "3  Vuthanhdat Contact    Learner_Gr4"
            ],
            "text/html": "<div>\n<style scoped>\n    .dataframe tbody tr th:only-of-type {\n        vertical-align: middle;\n    }\n\n    .dataframe tbody tr th {\n        vertical-align: top;\n    }\n\n    .dataframe thead th {\n        text-align: right;\n    }\n</style>\n<table border=\"1\" class=\"dataframe\">\n  <thead>\n    <tr style=\"text-align: right;\">\n      <th></th>\n      <th>real_name</th>\n      <th>DataCracy_role</th>\n    </tr>\n  </thead>\n  <tbody>\n    <tr>\n      <td>0</td>\n      <td>Ngoc Huyen</td>\n      <td>Learner_Gr1</td>\n    </tr>\n    <tr>\n      <td>1</td>\n      <td>Nguyen Linh</td>\n      <td>Learner_Gr1</td>\n    </tr>\n    <tr>\n      <td>2</td>\n      <td>Gia Hoang Tran</td>\n      <td>Learner_Gr1</td>\n    </tr>\n    <tr>\n      <td>3</td>\n      <td>Vuthanhdat Contact</td>\n      <td>Learner_Gr4</td>\n    </tr>\n  </tbody>\n</table>\n</div>"
          },
          "metadata": {},
          "execution_count": 171
        }
      ],
      "source": [
        "###4Learner nào chưa nộp bài cả 3 bài\n",
        "SQL4 = '''\n",
        "SELECT\n",
        "  t.real_name,  \n",
        "  t.DataCracy_role\n",
        "FROM members_df as t\n",
        "WHERE t.user_id NOT IN (\n",
        "  SELECT \n",
        "  user_id\n",
        "  FROM submit\n",
        ")\n",
        "AND t.DataCracy_role LIKE 'Learner%'\n",
        "'''\n",
        "con.execute(SQL4).fetch_df()"
      ]
    },
    {
      "source": [
        "  5. Tỷ lệ % Learner đã nộp assignment 1, 2, 3? (*giả sử có message trong channel atom-assignment, được tính là đã submit*)\n",
        "  6. Tỷ lệ % Learner đã submit bài và dc review trong assignment 1, 2, 3?\n",
        "  7. Learners theo Group nào có tỷ lệ % hoàn thành bài tập cao nhất?"
      ],
      "cell_type": "markdown",
      "metadata": {}
    },
    {
      "cell_type": "markdown",
      "metadata": {
        "id": "x_kpXBdUmqra"
      },
      "source": [
        "## Pandas vs. SQL \n",
        "* Python Pandas và SQL dù là 2 ngôn ngữ khác nhau, nhưng về cách thức thao tác và chuyển đổi data thì như nhau\n",
        "* Tuỳ theo từng tình huống cụ thể mà ta sẽ sử dụng Python Pandas hay SQL\n",
        "* Nhưng các bước thao tác/khám phá/tổng hợp data căn bản nhất gồm:\n",
        "\n",
        "| Thao tác   |     SQL      |  Python | SpreadSheet |\n",
        "|------------|-------------|------|----------|\n",
        "| Filter/Selection |  WHERE | df['col'] | Filter |\n",
        "| Join Data | JOIN | .join() | - |\n",
        "| Group Data |    GROUP BY   |   .groupby(col) | Pivot |\n",
        "| Summarize | SUM, AVG, MIN, MAX | .sum(), .mean(), .min(), .max() | SUM, MIN, MAX |\n",
        "\n",
        "* Tìm hiểu cách thao tác bằng Pandas. [Pandas CheatSheet](https://pandas.pydata.org/Pandas_Cheat_Sheet.pdf) => Xem các phần:\n",
        "  * **Subset(Rows & Columns)**\n",
        "  * **Summarize Data**: Để làm các phép tổng hợp, thống kê\n",
        "  * **Group Data**: Tương đương với Pivot trong Excel và `GROUP BY` trong SQL\n",
        "  * **Combine Data**: Tương đương với `JOIN` trong SQL\n",
        "  * **Plot**\n"
      ]
    },
    {
      "cell_type": "code",
      "metadata": {
        "colab": {
          "base_uri": "https://localhost:8080/"
        },
        "id": "pGq7dK0nmbwS",
        "outputId": "63b51073-f232-4c5c-cc0b-725978603079"
      },
      "source": [
        "## Ví dụ: Đoạn code (Pandas) sau làm\n",
        "## 1. Group by channel_id\n",
        "## 2. Count các message\n",
        "## 3. Sắp xếp theo thứ tự số message từ cao xuống thấp (ascending=False)\n",
        "## 4. Filter lấy Top 5\n",
        "msg_df.groupby('channel_id')['msg_id'].count().sort_values(ascending=False).head(5)"
      ],
      "execution_count": 284,
      "outputs": [
        {
          "output_type": "execute_result",
          "data": {
            "text/plain": [
              "channel_id\n",
              "C021FSDN7LJ    42\n",
              "C01U6P7LZ8F    42\n",
              "C01B4PVGLVB    37\n",
              "C0227A51SAY    32\n",
              "C0220KU9399    18\n",
              "Name: msg_id, dtype: int64"
            ]
          },
          "metadata": {
            "tags": []
          },
          "execution_count": 284
        }
      ]
    },
    {
      "cell_type": "code",
      "metadata": {
        "colab": {
          "base_uri": "https://localhost:8080/",
          "height": 194
        },
        "id": "plmjkL82oO7w",
        "outputId": "6bb3c69f-f6dc-4896-fe51-5f9e9a6ebebb"
      },
      "source": [
        "## Kết quả tương ứng bằng SQL\n",
        "SQL = '''\n",
        "  SELECT \n",
        "    channel_id,\n",
        "    COUNT(msg_id) AS msg_cnt\n",
        "  FROM msg_df \n",
        "  GROUP BY 1\n",
        "  ORDER BY COUNT(msg_id) DESC\n",
        "  LIMIT 5\n",
        "'''\n",
        "con.execute(SQL).fetch_df()"
      ],
      "execution_count": 283,
      "outputs": [
        {
          "output_type": "execute_result",
          "data": {
            "application/vnd.google.colaboratory.module+javascript": "\n      import \"https://ssl.gstatic.com/colaboratory/data_table/a6224c040fa35dcf/data_table.js\";\n\n      window.createDataTable({\n        data: [[{\n            'v': 0,\n            'f': \"0\",\n        },\n\"C021FSDN7LJ\",\n{\n            'v': 42,\n            'f': \"42\",\n        }],\n [{\n            'v': 1,\n            'f': \"1\",\n        },\n\"C01U6P7LZ8F\",\n{\n            'v': 42,\n            'f': \"42\",\n        }],\n [{\n            'v': 2,\n            'f': \"2\",\n        },\n\"C01B4PVGLVB\",\n{\n            'v': 37,\n            'f': \"37\",\n        }],\n [{\n            'v': 3,\n            'f': \"3\",\n        },\n\"C0227A51SAY\",\n{\n            'v': 32,\n            'f': \"32\",\n        }],\n [{\n            'v': 4,\n            'f': \"4\",\n        },\n\"C0220KU9399\",\n{\n            'v': 18,\n            'f': \"18\",\n        }]],\n        columns: [[\"number\", \"index\"], [\"string\", \"channel_id\"], [\"number\", \"msg_cnt\"]],\n        columnOptions: [{\"width\": \"1px\", \"className\": \"index_column\"}],\n        rowsPerPage: 25,\n        helpUrl: \"https://colab.research.google.com/notebooks/data_table.ipynb\",\n        suppressOutputScrolling: true,\n        minimumWidth: undefined,\n      });\n    ",
            "text/html": [
              "<div>\n",
              "<style scoped>\n",
              "    .dataframe tbody tr th:only-of-type {\n",
              "        vertical-align: middle;\n",
              "    }\n",
              "\n",
              "    .dataframe tbody tr th {\n",
              "        vertical-align: top;\n",
              "    }\n",
              "\n",
              "    .dataframe thead th {\n",
              "        text-align: right;\n",
              "    }\n",
              "</style>\n",
              "<table border=\"1\" class=\"dataframe\">\n",
              "  <thead>\n",
              "    <tr style=\"text-align: right;\">\n",
              "      <th></th>\n",
              "      <th>channel_id</th>\n",
              "      <th>msg_cnt</th>\n",
              "    </tr>\n",
              "  </thead>\n",
              "  <tbody>\n",
              "    <tr>\n",
              "      <th>0</th>\n",
              "      <td>C021FSDN7LJ</td>\n",
              "      <td>42</td>\n",
              "    </tr>\n",
              "    <tr>\n",
              "      <th>1</th>\n",
              "      <td>C01U6P7LZ8F</td>\n",
              "      <td>42</td>\n",
              "    </tr>\n",
              "    <tr>\n",
              "      <th>2</th>\n",
              "      <td>C01B4PVGLVB</td>\n",
              "      <td>37</td>\n",
              "    </tr>\n",
              "    <tr>\n",
              "      <th>3</th>\n",
              "      <td>C0227A51SAY</td>\n",
              "      <td>32</td>\n",
              "    </tr>\n",
              "    <tr>\n",
              "      <th>4</th>\n",
              "      <td>C0220KU9399</td>\n",
              "      <td>18</td>\n",
              "    </tr>\n",
              "  </tbody>\n",
              "</table>\n",
              "</div>"
            ],
            "text/plain": [
              "    channel_id  msg_cnt\n",
              "0  C021FSDN7LJ       42\n",
              "1  C01U6P7LZ8F       42\n",
              "2  C01B4PVGLVB       37\n",
              "3  C0227A51SAY       32\n",
              "4  C0220KU9399       18"
            ]
          },
          "metadata": {
            "tags": []
          },
          "execution_count": 283
        }
      ]
    },
    {
      "cell_type": "markdown",
      "metadata": {
        "id": "u0O19bzFqhs3"
      },
      "source": [
        "### TODO#7 (Optional): Pandas\n",
        "* Thực hiện lại các thao tác trong `TODO#6.2` bằng Python Pandas"
      ]
    },
    {
      "cell_type": "code",
      "metadata": {
        "id": "IATxkjc-qr8i"
      },
      "source": [
        "# YOUR CODE"
      ],
      "execution_count": 285,
      "outputs": []
    }
  ]
}